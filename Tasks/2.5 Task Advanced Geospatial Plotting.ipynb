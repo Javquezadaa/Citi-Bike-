{
 "cells": [
  {
   "cell_type": "code",
   "execution_count": 9,
   "id": "858f534d",
   "metadata": {},
   "outputs": [],
   "source": [
    "# Importing Libraries\n",
    "import pandas as pd\n",
    "import os\n",
    "from keplergl import KeplerGl\n",
    "from pyproj import CRS\n",
    "import numpy as np\n",
    "from matplotlib import pyplot as plt"
   ]
  },
  {
   "cell_type": "code",
   "execution_count": 11,
   "id": "647eab22",
   "metadata": {},
   "outputs": [],
   "source": [
    "import os\n",
    "os.chdir(\"/Users/javieraquezada/Desktop/Citi-Bike-\")"
   ]
  },
  {
   "cell_type": "code",
   "execution_count": 12,
   "id": "2961cb4c",
   "metadata": {},
   "outputs": [],
   "source": [
    "# Step 2. Load 2022 data\n",
    "df_2022 = pd.read_csv(\"df_2022.csv\", parse_dates=['started_at','ended_at','date'])"
   ]
  },
  {
   "cell_type": "code",
   "execution_count": 13,
   "id": "46ab97c4",
   "metadata": {},
   "outputs": [
    {
     "name": "stdout",
     "output_type": "stream",
     "text": [
      "/Users/javieraquezada/Desktop/Citi-Bike-\n"
     ]
    }
   ],
   "source": [
    "import os\n",
    "print(os.getcwd())"
   ]
  },
  {
   "cell_type": "code",
   "execution_count": 14,
   "id": "815e1bc3",
   "metadata": {},
   "outputs": [],
   "source": [
    "# Step 3. Adding a column with value 1 for aggregation\n",
    "df_2022['count'] = 1"
   ]
  },
  {
   "cell_type": "code",
   "execution_count": 15,
   "id": "8fb57091",
   "metadata": {},
   "outputs": [],
   "source": [
    "# Step 3.1 Creating a new agreggated dataframe that contains 3 columns: starting, ending station and trip count between them\n",
    "# Group by start and end stations with coordinates\n",
    "trips_agg = df_2022.groupby([\n",
    "    'start_station_name','end_station_name',\n",
    "    'start_lat','start_lng','end_lat','end_lng'\n",
    "]).agg({'count':'sum'}).reset_index()"
   ]
  },
  {
   "cell_type": "code",
   "execution_count": 16,
   "id": "dc7d83d4",
   "metadata": {},
   "outputs": [
    {
     "name": "stdout",
     "output_type": "stream",
     "text": [
      "User Guide: https://docs.kepler.gl/docs/keplergl-jupyter\n"
     ]
    },
    {
     "data": {
      "application/vnd.jupyter.widget-view+json": {
       "model_id": "8d32cfaa98fd48eca785df4a3f5d1521",
       "version_major": 2,
       "version_minor": 0
      },
      "text/plain": [
       "KeplerGl(data={'Trips between Stations': {'index': [0, 1, 2, 3, 4, 5, 6, 7, 8, 9, 10, 11, 12, 13, 14, 15, 16, …"
      ]
     },
     "metadata": {},
     "output_type": "display_data"
    }
   ],
   "source": [
    "# Step 4. Initializing an instance of a Kleper.gl map\n",
    "map_1 = KeplerGl(height=600)\n",
    "map_1.add_data(data=trips_agg, name=\"Trips between Stations\")\n",
    "map_1"
   ]
  },
  {
   "cell_type": "markdown",
   "id": "b4f6b783",
   "metadata": {},
   "source": [
    "```markdown\n",
    "## Step 5: Map Customization – Explanation\n",
    "\n",
    "- Arcs show the direction of trips, with thickness and color proportional to the number of trips.\n",
    "- Points represent stations, colored according to traffic importance.\n",
    "- Filters allow focusing on high-traffic trips and common routes.\n",
    "- The color palette was chosen to provide clear visual contrast between busy and less busy routes.\n",
    "```\n"
   ]
  },
  {
   "cell_type": "code",
   "execution_count": null,
   "id": "8f21fd49",
   "metadata": {},
   "outputs": [],
   "source": [
    "#Step 6: Explore Map\n",
    "#\t•\tIdentify popular stations and routes.\n",
    "#\t•\tLook for busy zones (e.g., Manhattan, parks, transit hubs).\n",
    "#\t•\tCompare observed patterns with residential, commercial, and recreational areas."
   ]
  },
  {
   "cell_type": "markdown",
   "id": "b8148962",
   "metadata": {},
   "source": [
    "```markdown\n",
    "## Step 6: Explore Map – Key Insights\n",
    "\n",
    "- **Busiest Stations:** Grove St PATH, South Waterfront, Hoboken Terminal, Newport Pkwy\n",
    "- **Popular Routes:** Short loops between major hubs, mostly commuter and recreational trips\n",
    "- **Busy Zones:** Jersey City & Hoboken waterfront, Newport, Grove St, Hamilton Park\n",
    "- **Patterns:** Weekday commuting peaks, weekend/recreational trips near parks, high-traffic corridors visible with arcs\n",
    "```\n"
   ]
  },
  {
   "cell_type": "code",
   "execution_count": 19,
   "id": "c5e916ef",
   "metadata": {},
   "outputs": [],
   "source": [
    "# Extract the map configuration\n",
    "config = map_1.config"
   ]
  },
  {
   "cell_type": "code",
   "execution_count": 21,
   "id": "161c163f",
   "metadata": {},
   "outputs": [
    {
     "name": "stdout",
     "output_type": "stream",
     "text": [
      "Map saved to citibike_2022_map.html!\n"
     ]
    }
   ],
   "source": [
    "# Save the map as an interactive HTML file (editable in browser)\n",
    "map_1.save_to_html(\n",
    "    file_name=\"citibike_2022_map.html\",\n",
    "    read_only=False,\n",
    "    config=config\n",
    ")"
   ]
  },
  {
   "cell_type": "code",
   "execution_count": 22,
   "id": "7b496e0c",
   "metadata": {},
   "outputs": [],
   "source": [
    "import json\n",
    "\n",
    "# Save the config dictionary as a JSON file\n",
    "with open(\"citibike_2022_config.json\", \"w\") as outfile:\n",
    "    json.dump(config, outfile)"
   ]
  },
  {
   "cell_type": "code",
   "execution_count": null,
   "id": "ba99b1ae",
   "metadata": {},
   "outputs": [],
   "source": []
  }
 ],
 "metadata": {
  "kernelspec": {
   "display_name": "venv_2.5",
   "language": "python",
   "name": "python3"
  },
  "language_info": {
   "codemirror_mode": {
    "name": "ipython",
    "version": 3
   },
   "file_extension": ".py",
   "mimetype": "text/x-python",
   "name": "python",
   "nbconvert_exporter": "python",
   "pygments_lexer": "ipython3",
   "version": "3.9.23"
  }
 },
 "nbformat": 4,
 "nbformat_minor": 5
}
